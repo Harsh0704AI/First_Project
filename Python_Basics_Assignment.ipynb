{
 "cells": [
  {
   "cell_type": "markdown",
   "id": "2aa7e8a7",
   "metadata": {},
   "source": [
    "### Ans 1 "
   ]
  },
  {
   "cell_type": "markdown",
   "id": "c070a2d2",
   "metadata": {},
   "source": [
    "1. Lists are mutable whereas Tuples are immutable this means we can change, add, or remove elements from a list after it has      been created but it not possible in tuple.\n",
    "2. Lists are defined using square brackets [] whereas tuples are defined using parentheses ().\n",
    "     eg:- list =[1,2,3]  tuple=(1,2,3)\n",
    "3. Tuples are faster and require less memory then lists.\n"
   ]
  },
  {
   "cell_type": "markdown",
   "id": "3b00271f",
   "metadata": {},
   "source": [
    "### Ans2"
   ]
  },
  {
   "cell_type": "code",
   "execution_count": 1,
   "id": "a0934390",
   "metadata": {},
   "outputs": [
    {
     "name": "stdout",
     "output_type": "stream",
     "text": [
      "L1 element value is less than L2 element value\n",
      "L1 element value is less than L2 element value\n",
      "L1 element value is less than L2 element value\n",
      "L1 element value is greater than L2 element value\n",
      "L1 element value is greater than L2 element value\n",
      "L1 element value is greater than L2 element value\n"
     ]
    }
   ],
   "source": [
    "l1=[1,2,3,4,5,6]\n",
    "l2=[6,5,4,3,2,1]\n",
    "a=len(l1)\n",
    "for i in range(a):\n",
    "    if l1[i]>l2[i]:\n",
    "        print(\"L1 element value is greater than L2 element value\")\n",
    "    elif l1[i]<l2[i]:\n",
    "        print(\"L1 element value is less than L2 element value\") \n"
   ]
  },
  {
   "cell_type": "markdown",
   "id": "6dfd8282",
   "metadata": {},
   "source": [
    "### Ans3 "
   ]
  },
  {
   "cell_type": "code",
   "execution_count": 5,
   "id": "722aa236",
   "metadata": {},
   "outputs": [
    {
     "data": {
      "text/plain": [
       "{1: 1, 2: 4, 3: 9, 4: 16, 5: 25, 6: 36}"
      ]
     },
     "execution_count": 5,
     "metadata": {},
     "output_type": "execute_result"
    }
   ],
   "source": [
    "def sq_list(l):\n",
    "    Sq=[]\n",
    "    a=len(l)\n",
    "    for i in range(a):\n",
    "        Sq.insert(i,l[i]**2)\n",
    " \n",
    "    d=dict(zip(l,Sq))\n",
    "    return d\n",
    "l=[1,2,3,4,5,6]\n",
    "sq_list(l)"
   ]
  },
  {
   "cell_type": "markdown",
   "id": "4182cab0",
   "metadata": {},
   "source": [
    "### Ans4"
   ]
  },
  {
   "cell_type": "code",
   "execution_count": 9,
   "id": "3aecdddb",
   "metadata": {},
   "outputs": [
    {
     "name": "stdout",
     "output_type": "stream",
     "text": [
      "7\n",
      "6\n"
     ]
    }
   ],
   "source": [
    "def Calculator(int1,int2,op):\n",
    "    op=op.upper()\n",
    "    if op==\"ADD\":\n",
    "        return int1+int2\n",
    "    elif op==\"SUB\":\n",
    "        return int1-int2\n",
    "    elif op==\"MUL\":\n",
    "        return int1*int2\n",
    "    elif op==\"DIV\":\n",
    "        return int1/int2\n",
    "    else:\n",
    "        print(\"Invalid operator\")\n",
    "        \n",
    "print(Calculator(2,5,'AdD'))       \n",
    "print(Calculator(7,1,'SuB'))"
   ]
  },
  {
   "cell_type": "markdown",
   "id": "ff0eedf7",
   "metadata": {},
   "source": [
    "### Ans5 "
   ]
  },
  {
   "cell_type": "code",
   "execution_count": 10,
   "id": "b0d8cbaf",
   "metadata": {},
   "outputs": [
    {
     "name": "stdout",
     "output_type": "stream",
     "text": [
      "2004\n",
      "2008\n",
      "2012\n",
      "2016\n",
      "2020\n",
      "2024\n",
      "2028\n",
      "2032\n",
      "2036\n",
      "2040\n",
      "2044\n",
      "2048\n",
      "2052\n",
      "2056\n",
      "2060\n",
      "2064\n",
      "2068\n",
      "2072\n",
      "2076\n",
      "2080\n",
      "2084\n",
      "2088\n",
      "2092\n",
      "2096\n"
     ]
    }
   ],
   "source": [
    "def leap_year(int1):\n",
    "    \n",
    " if int1%100==0:\n",
    "    if int1%400==0:\n",
    "        return True\n",
    "    else:\n",
    "        return False\n",
    " else:\n",
    "    if int1%4==0:\n",
    "        return True\n",
    "    else:\n",
    "        return False\n",
    "# to print leap year in 21th Century\n",
    "for i in range(2001,2101):\n",
    "   if leap_year(i)==True:\n",
    "      print(i)\n"
   ]
  },
  {
   "cell_type": "markdown",
   "id": "1af4b78c",
   "metadata": {},
   "source": [
    "### Ans6"
   ]
  },
  {
   "cell_type": "code",
   "execution_count": 11,
   "id": "b9e81ac4",
   "metadata": {},
   "outputs": [
    {
     "name": "stdout",
     "output_type": "stream",
     "text": [
      "1 \n",
      "1 2 \n",
      "1 2 3 \n",
      "1 2 3 4 \n",
      "1 2 3 4 5 \n"
     ]
    }
   ],
   "source": [
    "\n",
    "def num_pat(index):\n",
    "    index\n",
    "    for i in range(index):\n",
    "        for j in range(i+1):\n",
    "            print(j+1,end=' ')\n",
    "        print()\n",
    "num_pat(5)\n"
   ]
  },
  {
   "cell_type": "markdown",
   "id": "2f0b777b",
   "metadata": {},
   "source": [
    "### Ans7"
   ]
  },
  {
   "cell_type": "code",
   "execution_count": 12,
   "id": "36993fed",
   "metadata": {},
   "outputs": [
    {
     "data": {
      "text/plain": [
       "{'name': 'Virat', 'surname': 'Kohli', 'yob': 1986}"
      ]
     },
     "execution_count": 12,
     "metadata": {},
     "output_type": "execute_result"
    }
   ],
   "source": [
    "def list_of_tup_to_dict(l):\n",
    "    d={}\n",
    "    for i in l:\n",
    "        d[i[0]]=i[1]\n",
    "    return d\n",
    "l=[(\"name\",\"Virat\"),(\"surname\",\"Kohli\"),(\"yob\",1986)]\n",
    "list_of_tup_to_dict(l)\n"
   ]
  },
  {
   "cell_type": "markdown",
   "id": "177c7aaa",
   "metadata": {},
   "source": [
    "### Ans8"
   ]
  },
  {
   "cell_type": "code",
   "execution_count": 13,
   "id": "64aaedd1",
   "metadata": {},
   "outputs": [
    {
     "name": "stdout",
     "output_type": "stream",
     "text": [
      "List with even index\n",
      "[0, 2, 4, 6, 8, 10]\n",
      "List with odd index\n",
      "[1, 3, 5, 7, 9]\n"
     ]
    },
    {
     "data": {
      "text/plain": [
       "[[0, 2, 4, 6, 8, 10], [1, 3, 5, 7, 9]]"
      ]
     },
     "execution_count": 13,
     "metadata": {},
     "output_type": "execute_result"
    }
   ],
   "source": [
    "#This function returs the lists\n",
    "def lst_Split(l):\n",
    "    return [l[::2] ,l[1::2]]\n",
    "#This function only displayes the lists\n",
    "def lst_Split1(l):\n",
    "    print(\"List with even index\")\n",
    "    print(l[::2])\n",
    "    print(\"List with odd index\")\n",
    "    print(l[1::2])\n",
    "l1=[0,1,2,3,4,5,6,7,8,9,10]\n",
    "lst_Split1(l1)\n",
    "lst_Split(l1)"
   ]
  },
  {
   "cell_type": "markdown",
   "id": "e01d01c9",
   "metadata": {},
   "source": [
    "### Ans9"
   ]
  },
  {
   "cell_type": "code",
   "execution_count": 17,
   "id": "eda6ac5d",
   "metadata": {},
   "outputs": [
    {
     "data": {
      "text/plain": [
       "'programming'"
      ]
     },
     "execution_count": 17,
     "metadata": {},
     "output_type": "execute_result"
    }
   ],
   "source": [
    "def longest_word(str):\n",
    "    l=str.split(' ')\n",
    "    index=0\n",
    "    Max_len=0\n",
    "    for i in range(len(l)):\n",
    "        if len(l[i])>Max_len:\n",
    "            Max_len=len(l[i])\n",
    "            index=i\n",
    "    return l[index]\n",
    "\n",
    "longest_word(\"Python programming is fun\")"
   ]
  },
  {
   "cell_type": "markdown",
   "id": "6e9289fc",
   "metadata": {},
   "source": [
    "### Ans10"
   ]
  },
  {
   "cell_type": "code",
   "execution_count": 18,
   "id": "037fe8f4",
   "metadata": {},
   "outputs": [
    {
     "data": {
      "text/plain": [
       "{1: 1, 2: 2, 3: 1, 4: 3, 5: 2}"
      ]
     },
     "execution_count": 18,
     "metadata": {},
     "output_type": "execute_result"
    }
   ],
   "source": [
    "def freq_Cal(l):\n",
    "    d={}\n",
    "    l2=set(l)\n",
    "    for i in l2:\n",
    "       d[i]=l.count(i)\n",
    "    return d\n",
    "l=[1, 2, 2, 3, 4, 4, 4, 5, 5] \n",
    "freq_Cal(l)"
   ]
  }
 ],
 "metadata": {
  "kernelspec": {
   "display_name": "Python 3 (ipykernel)",
   "language": "python",
   "name": "python3"
  },
  "language_info": {
   "codemirror_mode": {
    "name": "ipython",
    "version": 3
   },
   "file_extension": ".py",
   "mimetype": "text/x-python",
   "name": "python",
   "nbconvert_exporter": "python",
   "pygments_lexer": "ipython3",
   "version": "3.11.4"
  }
 },
 "nbformat": 4,
 "nbformat_minor": 5
}
